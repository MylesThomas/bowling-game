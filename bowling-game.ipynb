{
 "cells": [
  {
   "cell_type": "code",
   "execution_count": 25,
   "id": "8457c121",
   "metadata": {},
   "outputs": [],
   "source": [
    "class Main:\n",
    "\n",
    "    def play_game(self, throws, frame=1, total=0):\n",
    "        \"\"\"\n",
    "        Recursive method that calculates the score of the bowling game one frame at a time and returns the total.\n",
    "\n",
    "        Parameters\n",
    "        ----------\n",
    "        throws: list\n",
    "            List of elements (throws) to be totaled.\n",
    "\n",
    "        frame: int\n",
    "             Index of the frame being calculated. Default value: 1\n",
    "\n",
    "        total: int\n",
    "            Running total of the bowling game score. Default value: 0\n",
    "\n",
    "        Returns\n",
    "        ----------\n",
    "        score: int\n",
    "            Final calculated total of the bowling game.\n",
    "        \"\"\"\n",
    "        ### exit case (frame 10 calculated or incomplete game)\n",
    "        if frame > 10 or not throws:\n",
    "            return total\n",
    "\n",
    "        ### strike\n",
    "        elif throws[0] == 10:\n",
    "            # bonus = next two throws following current frame\n",
    "            bonus = 0\n",
    "            # edge case logic for incomplete game\n",
    "            if len(throws) >= 3:\n",
    "                bonus = sum(throws[1:3])\n",
    "            elif len(throws) > 1:\n",
    "                bonus = throws[1]\n",
    "            # pop off first index, increment frame count, update total\n",
    "            return self.play_game(throws[1:], frame + 1, total + 10 + bonus)\n",
    "\n",
    "        ### spare\n",
    "        elif sum(throws[0:2]) == 10:\n",
    "            # bonus = next throw following current frame\n",
    "            bonus = 0\n",
    "            # edge case logic for incomplete game\n",
    "            if len(throws) >= 3:\n",
    "                bonus = throws[2]\n",
    "            # pop off first two indexes, increment frame count, update total\n",
    "            return self.play_game(throws[2:], frame + 1, total + 10 + bonus)\n",
    "\n",
    "        ### closed frame\n",
    "        else:\n",
    "            total += sum(throws[0:2])\n",
    "            # pop off first two indexes, increment frame count, update total\n",
    "            return self.play_game(throws[2:], frame + 1, total)"
   ]
  },
  {
   "cell_type": "code",
   "execution_count": 26,
   "id": "b6504b22",
   "metadata": {},
   "outputs": [
    {
     "name": "stdout",
     "output_type": "stream",
     "text": [
      "[10, 10, 10, 10, 10, 10, 10, 10, 10, 10, 10, 10]\n",
      "Score of a perfect game: 300\n"
     ]
    }
   ],
   "source": [
    "list_perfect_game = [10] * 12\n",
    "\n",
    "print(list_perfect_game)\n",
    "\n",
    "game = Main()\n",
    "\n",
    "print(f\"Score of a perfect game: {game.play_game(list_perfect_game)}\")"
   ]
  },
  {
   "cell_type": "code",
   "execution_count": null,
   "id": "8744e40c",
   "metadata": {},
   "outputs": [],
   "source": []
  }
 ],
 "metadata": {
  "kernelspec": {
   "display_name": "Python 3",
   "language": "python",
   "name": "python3"
  },
  "language_info": {
   "codemirror_mode": {
    "name": "ipython",
    "version": 3
   },
   "file_extension": ".py",
   "mimetype": "text/x-python",
   "name": "python",
   "nbconvert_exporter": "python",
   "pygments_lexer": "ipython3",
   "version": "3.8.8"
  }
 },
 "nbformat": 4,
 "nbformat_minor": 5
}
